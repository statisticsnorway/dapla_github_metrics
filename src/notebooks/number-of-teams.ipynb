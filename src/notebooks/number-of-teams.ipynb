{
 "cells": [
  {
   "cell_type": "code",
   "execution_count": null,
   "id": "a53689f8-8a52-4dca-8f2e-2589b459ba5f",
   "metadata": {},
   "outputs": [],
   "source": [
    "import pandas as pd\n",
    "from datetime import date, datetime\n",
    "output_data = pd.DataFrame(columns=[\"number_of_teams\"])"
   ]
  },
  {
   "cell_type": "code",
   "execution_count": null,
   "id": "13fd8416-63ef-447c-a18e-432ba40e1340",
   "metadata": {
    "tags": []
   },
   "outputs": [],
   "source": [
    "def get_number_of_teams(file_contents: str) -> int:\n",
    "    EXCLUDE_REPOS = {\"dapla-felles-iac\", \"demo-enhjoern-a-iac\", \"demo-enhjoern-b-iac\"}\n",
    "    line = [line.strip() for line in file_contents.splitlines() if line.strip().startswith(\"value: github.com\")][0]\n",
    "    sections = [l for l in line.split(\",\") if not(any([r in l for r in EXCLUDE_REPOS]))]\n",
    "    return len(sections)"
   ]
  },
  {
   "cell_type": "code",
   "execution_count": null,
   "id": "8193a6cf-1944-4a40-8f55-d0ff4d783420",
   "metadata": {},
   "outputs": [],
   "source": [
    "# Assumes https://github.com/statisticsnorway/atlantis-team-config is cloned to the home directory\n",
    "from git import Repo, GitCommandError\n",
    "from pathlib import Path\n",
    "from pprint import pprint\n",
    "PATH_TO_CONFIG_FILE = \"kubernetes-manifests/dapla-felles/atlantis-statefulset/atlantis-statefulset.yaml\"\n",
    "atlantis_config = Repo(Path.home() / \"atlantis-team-config\")\n",
    "main = atlantis_config.heads.main\n",
    "for commit in atlantis_config.iter_commits(\"main\", max_count=200):\n",
    "    # Get contents of file for this commit\n",
    "    try:\n",
    "        file_contents = atlantis_config.git.show('{}:{}'.format(commit.hexsha, PATH_TO_CONFIG_FILE))\n",
    "    except GitCommandError:\n",
    "        break\n",
    "    number_of_teams = get_number_of_teams(file_contents)\n",
    "    commit_datetime = commit.committed_datetime\n",
    "    output_data.at[commit_datetime.date(), \"number_of_teams\"] = number_of_teams"
   ]
  },
  {
   "cell_type": "code",
   "execution_count": null,
   "id": "0e2a5a35-cd0f-4739-bfd5-604c50f517a4",
   "metadata": {},
   "outputs": [],
   "source": [
    "import plotly\n",
    "import plotly.io as pio\n",
    "import plotly.express as px\n",
    "import nbformat\n",
    "\n",
    "pd.options.plotting.backend = \"plotly\"\n",
    "\n",
    "output_data.sort_index(inplace=True)\n",
    "output_data = output_data.truncate(before=date(2022, 3, 15), after=datetime.now().date())\n",
    "figure = px.line(output_data, title=\"Team etablert på Dapla\", template=\"plotly_dark\",\n",
    "              labels=dict(index=\"Dato\", value=\"Antall team\", variable=\"Antall\"))\n",
    "figure.update_layout(showlegend=False)\n",
    "figure.show()"
   ]
  }
 ],
 "metadata": {
  "kernelspec": {
   "display_name": "dapla_github_metrics",
   "language": "python",
   "name": "dapla_github_metrics"
  },
  "language_info": {
   "codemirror_mode": {
    "name": "ipython",
    "version": 3
   },
   "file_extension": ".py",
   "mimetype": "text/x-python",
   "name": "python",
   "nbconvert_exporter": "python",
   "pygments_lexer": "ipython3",
   "version": "3.10.6"
  }
 },
 "nbformat": 4,
 "nbformat_minor": 5
}
