{
 "cells": [
  {
   "cell_type": "code",
   "execution_count": null,
   "id": "a53689f8-8a52-4dca-8f2e-2589b459ba5f",
   "metadata": {},
   "outputs": [],
   "source": [
    "import json\n",
    "import pandas as pd\n",
    "from datetime import date, datetime\n",
    "from dotenv import dotenv_values\n",
    "from git import Repo, GitCommandError\n",
    "from pathlib import Path\n",
    "import dapla as dp\n",
    "\n",
    "# Read in magic values\n",
    "config = dotenv_values(\"../../.env\")\n",
    "EXCLUDE_REPOS = json.loads(config[\"EXCLUDE_REPOS\"])\n",
    "PATH_TO_CONFIG_FILE = config[\"PATH_TO_CONFIG_FILE\"]\n",
    "FIRST_COMMIT_SHA = config[\"FIRST_COMMIT_SHA\"]\n",
    "CSV_FILE_NAME = config[\"CSV_FILE_NAME\"]\n",
    "\n",
    "TEAMS_COLUMN_NAME = \"number_of_teams\"\n",
    "\n",
    "# Initialise DataFrame\n",
    "output_data = pd.DataFrame(columns=[\"date\", TEAMS_COLUMN_NAME]).set_index(\"date\")"
   ]
  },
  {
   "cell_type": "code",
   "execution_count": null,
   "id": "13fd8416-63ef-447c-a18e-432ba40e1340",
   "metadata": {
    "tags": []
   },
   "outputs": [],
   "source": [
    "def get_number_of_teams_at_ref(git_ref: str) -> int:\n",
    "    # Get contents of file for this commit\n",
    "    file_contents = atlantis_config.git.show('{}:{}'.format(git_ref, PATH_TO_CONFIG_FILE))\n",
    "    line = [line.strip() for line in file_contents.splitlines() if line.strip().startswith(\"value: github.com\")][0]\n",
    "    sections = [l for l in line.split(\",\") if not(any([r in l for r in EXCLUDE_REPOS]))]\n",
    "    return len(sections)"
   ]
  },
  {
   "cell_type": "code",
   "execution_count": null,
   "id": "8193a6cf-1944-4a40-8f55-d0ff4d783420",
   "metadata": {},
   "outputs": [],
   "source": [
    "# Assumes the atlantis-team-config repo is cloned to the home directory\n",
    "atlantis_config = Repo(Path.home() / \"atlantis-team-config\")\n",
    "\n",
    "i = 0\n",
    "for commit in atlantis_config.iter_commits(\"main\", max_count=200):\n",
    "    if commit.hexsha.startswith(FIRST_COMMIT_SHA):\n",
    "        break\n",
    "    try:\n",
    "        # Record the datapoint in the Dataframe\n",
    "        output_data.at[commit.committed_datetime.date(), TEAMS_COLUMN_NAME] = get_number_of_teams_at_ref(commit.hexsha)\n",
    "    except GitCommandError:\n",
    "        break\n",
    "\n",
    "# Special case: Always record the latest datapoint\n",
    "output_data.at[date.today(), TEAMS_COLUMN_NAME] = get_number_of_teams_at_ref(\"HEAD\")\n",
    "print(output_data)"
   ]
  },
  {
   "cell_type": "code",
   "execution_count": null,
   "id": "0e2a5a35-cd0f-4739-bfd5-604c50f517a4",
   "metadata": {},
   "outputs": [],
   "source": [
    "import plotly\n",
    "import plotly.io as pio\n",
    "import plotly.express as px\n",
    "import nbformat\n",
    "\n",
    "pd.options.plotting.backend = \"plotly\"\n",
    "\n",
    "output_data.sort_index(inplace=True)\n",
    "output_data = output_data.truncate(before=date(2022, 3, 15), after=datetime.now().date())\n",
    "figure = px.line(\n",
    "    output_data,\n",
    "    title=\"Team etablert på Dapla\",\n",
    "    template=\"plotly_dark\",\n",
    "    labels=dict(index=\"Dato\", value=\"Antall team\", variable=\"Antall\")\n",
    ")\n",
    "figure.update_layout(showlegend=False)\n",
    "figure.show()"
   ]
  },
  {
   "cell_type": "code",
   "execution_count": null,
   "id": "707368f6-72fa-494b-afaf-620e82389b6b",
   "metadata": {},
   "outputs": [],
   "source": [
    "dp.FileClient.save_pandas_to_csv(output_data, CSV_FILE_NAME, index=True)\n",
    "print(dp.FileClient.cat(CSV_FILE_NAME))"
   ]
  }
 ],
 "metadata": {
  "kernelspec": {
   "display_name": "dapla_github_metrics",
   "language": "python",
   "name": "dapla_github_metrics"
  },
  "language_info": {
   "codemirror_mode": {
    "name": "ipython",
    "version": 3
   },
   "file_extension": ".py",
   "mimetype": "text/x-python",
   "name": "python",
   "nbconvert_exporter": "python",
   "pygments_lexer": "ipython3",
   "version": "3.10.6"
  },
  "vscode": {
   "interpreter": {
    "hash": "c13f31480a135a20a8da6a4bd80536b0c11a91c647cad631caa11f84026892a4"
   }
  }
 },
 "nbformat": 4,
 "nbformat_minor": 5
}
